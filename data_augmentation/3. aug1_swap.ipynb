{
 "cells": [
  {
   "cell_type": "code",
   "execution_count": 1,
   "metadata": {},
   "outputs": [],
   "source": [
    "import pandas as pd\n",
    "\n",
    "def augment_data_by_label(df, label_values, sample_sizes):\n",
    "    augmented_dfs = []  \n",
    "    \n",
    "    for label_value, sample_size in zip(label_values, sample_sizes):\n",
    "\n",
    "        filtered_df = df[df['label'] == label_value].copy()\n",
    "\n",
    "        filtered_df['sentence_1'], filtered_df['sentence_2'] = filtered_df['sentence_2'], filtered_df['sentence_1']\n",
    "\n",
    "        filtered_df['source'] = filtered_df['id'].astype(str) + '-sw'\n",
    "\n",
    "        if sample_size > len(filtered_df):\n",
    "            sample_size = len(filtered_df)\n",
    "\n",
    "        augmented_df = filtered_df.sample(n=sample_size, random_state=42)\n",
    "\n",
    "        augmented_dfs.append(augmented_df)\n",
    "\n",
    "    final_augmented_df = pd.concat(augmented_dfs, ignore_index=True)\n",
    "    \n",
    "    return final_augmented_df"
   ]
  },
  {
   "cell_type": "code",
   "execution_count": 2,
   "metadata": {},
   "outputs": [],
   "source": [
    "###################################################\n",
    "input_file = 'data/train.csv'  # 원본 파일 경로\n",
    "output_file = 'data/add_swap.csv'  # 저장 파일 경로\n",
    "\n",
    "label_values = [1.0, 2.0, 3.0]  # 증강이 필요한 라벨\n",
    "sample_sizes = [50, 100, 120]  # 필요한 증강 개수\n",
    "###################################################"
   ]
  },
  {
   "cell_type": "code",
   "execution_count": 3,
   "metadata": {},
   "outputs": [],
   "source": [
    "df = pd.read_csv(input_file)\n",
    "\n",
    "final_augmented_df = augment_data_by_label(df, label_values, sample_sizes)\n",
    "final_augmented_df.to_csv(output_file, index=False)"
   ]
  }
 ],
 "metadata": {
  "kernelspec": {
   "display_name": "base",
   "language": "python",
   "name": "python3"
  },
  "language_info": {
   "codemirror_mode": {
    "name": "ipython",
    "version": 3
   },
   "file_extension": ".py",
   "mimetype": "text/x-python",
   "name": "python",
   "nbconvert_exporter": "python",
   "pygments_lexer": "ipython3",
   "version": "3.10.13"
  }
 },
 "nbformat": 4,
 "nbformat_minor": 2
}
