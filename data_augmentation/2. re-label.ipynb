{
 "cells": [
  {
   "cell_type": "code",
   "execution_count": 9,
   "metadata": {},
   "outputs": [],
   "source": [
    "import pandas as pd\n",
    "\n",
    "def relabel_data(input_file, new_labels, output_file):\n",
    "    df = pd.read_csv(input_file)\n",
    "    \n",
    "    def find_closest_label(old_label, new_labels):\n",
    "        closest_label = min(new_labels, key=lambda x: abs(x - old_label))\n",
    "        return closest_label\n",
    "\n",
    "    df['label'] = df['label'].apply(lambda x: find_closest_label(x, new_labels))\n",
    "    \n",
    "    df.to_csv(output_file, index=False)\n"
   ]
  },
  {
   "cell_type": "code",
   "execution_count": 10,
   "metadata": {},
   "outputs": [],
   "source": [
    "#######################################################################\n",
    "input_file = 'data/train.csv'  # 원본 파일 경로\n",
    "output_file = 'data/train_relabel.csv'  # 저장 파일 경로\n",
    "\n",
    "new_labels = [0, 0.5, 1, 1.5, 2, 2.5, 3, 3.5, 4, 4.5, 5]  # 새로운 라벨\n",
    "#######################################################################"
   ]
  },
  {
   "cell_type": "code",
   "execution_count": 11,
   "metadata": {},
   "outputs": [],
   "source": [
    "relabel_data(input_file, new_labels, output_file)"
   ]
  }
 ],
 "metadata": {
  "kernelspec": {
   "display_name": "base",
   "language": "python",
   "name": "python3"
  },
  "language_info": {
   "codemirror_mode": {
    "name": "ipython",
    "version": 3
   },
   "file_extension": ".py",
   "mimetype": "text/x-python",
   "name": "python",
   "nbconvert_exporter": "python",
   "pygments_lexer": "ipython3",
   "version": "3.10.13"
  }
 },
 "nbformat": 4,
 "nbformat_minor": 2
}
