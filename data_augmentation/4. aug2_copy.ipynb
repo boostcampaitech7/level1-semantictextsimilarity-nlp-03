{
 "cells": [
  {
   "cell_type": "code",
   "execution_count": 4,
   "metadata": {},
   "outputs": [],
   "source": [
    "import pandas as pd\n",
    "\n",
    "def augment_data(df, label_to_add, num_samples_to_add, output_file):\n",
    "    all_new_data = [] \n",
    "    \n",
    "    for label, num_samples in zip(label_to_add, num_samples_to_add):\n",
    "        new_data = []  \n",
    "        \n",
    "        label_data = df[df['label'] == label]\n",
    "\n",
    "        existing_sentences = set(label_data['sentence_1'].tolist() + label_data['sentence_2'].tolist())\n",
    "\n",
    "        other_labels_data = df[df['label'] != label]\n",
    "\n",
    "        for index, row in other_labels_data.iterrows():\n",
    "            if row['sentence_1'] not in existing_sentences and row['sentence_2'] not in existing_sentences:\n",
    "                new_data.append({\n",
    "                    'id': f\"augmented-{index}-cp1\",\n",
    "                    'source': row['source'],\n",
    "                    'sentence_1': row['sentence_1'],\n",
    "                    'sentence_2': row['sentence_1'], \n",
    "                    'label': label,\n",
    "                    'binary-label': 1\n",
    "                })\n",
    "                new_data.append({\n",
    "                    'id': f\"augmented-{index}-cp2\",\n",
    "                    'source': row['source'],\n",
    "                    'sentence_1': row['sentence_2'],\n",
    "                    'sentence_2': row['sentence_2'],  \n",
    "                    'label': label,\n",
    "                    'binary-label': 1\n",
    "                })\n",
    "\n",
    "            if len(new_data) >= num_samples:\n",
    "                break\n",
    "\n",
    "        all_new_data.extend(new_data)\n",
    "    \n",
    "    new_data_df = pd.DataFrame(all_new_data)\n",
    "    new_data_df.to_csv(output_file, index=False)"
   ]
  },
  {
   "cell_type": "code",
   "execution_count": 5,
   "metadata": {},
   "outputs": [],
   "source": [
    "##################################################\n",
    "input_file = 'data/train.csv'  # 원본 파일 경로\n",
    "output_file = 'data/add_copy.csv'  # 저장 파일 경로\n",
    "\n",
    "label_values = [4.5, 5.0]  # 증강이 필요한 라벨\n",
    "sample_sizes = [500, 1100]  # 필요한 증강 개수\n",
    "##################################################"
   ]
  },
  {
   "cell_type": "code",
   "execution_count": 6,
   "metadata": {},
   "outputs": [],
   "source": [
    "df = pd.read_csv(input_file)\n",
    "\n",
    "augment_data(df, label_values, sample_sizes, output_file)"
   ]
  }
 ],
 "metadata": {
  "kernelspec": {
   "display_name": "base",
   "language": "python",
   "name": "python3"
  },
  "language_info": {
   "codemirror_mode": {
    "name": "ipython",
    "version": 3
   },
   "file_extension": ".py",
   "mimetype": "text/x-python",
   "name": "python",
   "nbconvert_exporter": "python",
   "pygments_lexer": "ipython3",
   "version": "3.10.13"
  }
 },
 "nbformat": 4,
 "nbformat_minor": 2
}
